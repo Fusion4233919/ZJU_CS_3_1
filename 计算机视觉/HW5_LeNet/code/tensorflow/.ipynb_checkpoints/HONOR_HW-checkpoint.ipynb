{
 "cells": [
  {
   "cell_type": "code",
   "execution_count": null,
   "metadata": {},
   "outputs": [],
   "source": [
    "# Author: Haocheng Xia\n",
    "# Date: 2020/1/4\n",
    "# Computer Vision 光荣题"
   ]
  },
  {
   "cell_type": "code",
   "execution_count": 5,
   "metadata": {},
   "outputs": [],
   "source": [
    "import sklearn.datasets\n",
    "from sklearn.datasets import fetch_openml\n",
    "import tensorflow as tf\n",
    "import numpy as np\n",
    "import matplotlib.pyplot as plt\n",
    "import seaborn as sns\n",
    "%matplotlib inline\n",
    "\n",
    "sklearn.datasets.fetch_*?"
   ]
  },
  {
   "cell_type": "code",
   "execution_count": 6,
   "metadata": {},
   "outputs": [],
   "source": [
    "mnist = fetch_openml(\"mnist_784\")"
   ]
  },
  {
   "cell_type": "code",
   "execution_count": 8,
   "metadata": {},
   "outputs": [],
   "source": [
    "x = mnist[\"data\"]\n",
    "y = mnist[\"target\"]"
   ]
  },
  {
   "cell_type": "code",
   "execution_count": 9,
   "metadata": {},
   "outputs": [],
   "source": [
    "m = len(x)\n",
    "perm = np.random.permutation(m)\n",
    "x_train, x_test = x[perm][10000:],x[perm][:10000]\n",
    "y_train, y_test = y[perm][10000:],y[perm][:10000]\n",
    "\n",
    "x_train = x_train/255\n",
    "x_test = x_test/255"
   ]
  },
  {
   "cell_type": "code",
   "execution_count": 10,
   "metadata": {},
   "outputs": [
    {
     "data": {
      "text/plain": [
       "<matplotlib.image.AxesImage at 0x1be5ba40e10>"
      ]
     },
     "execution_count": 10,
     "metadata": {},
     "output_type": "execute_result"
    },
    {
     "data": {
      "image/png": "[encoded data removed]",
      "text/plain": [
       "<Figure size 432x288 with 4 Axes>"
      ]
     },
     "metadata": {
      "needs_background": "light"
     },
     "output_type": "display_data"
    }
   ],
   "source": [
    "# check content of the dataset\n",
    "f, ax = plt.subplots(2,2)\n",
    "ax[0, 0].imshow(x[50000].reshape(28, 28), cmap = 'Greys')\n",
    "ax[0, 1].imshow(x[50001].reshape(28, 28), cmap = 'Greys')\n",
    "ax[1, 0].imshow(x[50002].reshape(28, 28), cmap = 'Greys')\n",
    "ax[1, 1].imshow(x[50003].reshape(28, 28), cmap = 'Greys')\n"
   ]
  },
  {
   "cell_type": "code",
   "execution_count": 11,
   "metadata": {},
   "outputs": [],
   "source": [
    "from scipy.ndimage.interpolation import shift"
   ]
  },
  {
   "cell_type": "code",
   "execution_count": 12,
   "metadata": {},
   "outputs": [],
   "source": [
    "# func: shift pic to enlarge dataset\n",
    "def shift_image(image, dx, dy):\n",
    "    image = image.reshape((28,28))\n",
    "    shifted_image = shift(image, [dx, dy], cval = 0, mode = 'constant')\n",
    "    return shifted_image.reshape([-1])"
   ]
  },
  {
   "cell_type": "code",
   "execution_count": 13,
   "metadata": {},
   "outputs": [],
   "source": [
    "# image & label \n",
    "x_train_shifted = []\n",
    "y_train_augmented = []\n",
    "\n",
    "for dx, dy in ((1,0),(-1,0),(0,1),(0,-1)):\n",
    "    for image, label in zip(x_train, y_train):\n",
    "        x_train_shifted.append(shift_image(image, dx, dy))\n",
    "        y_train_augmented.append(label)"
   ]
  },
  {
   "cell_type": "code",
   "execution_count": 14,
   "metadata": {},
   "outputs": [],
   "source": [
    "x_train_shifted = np.array(x_train_shifted)\n",
    "y_train_augmented = np.array(y_train_augmented)"
   ]
  },
  {
   "cell_type": "code",
   "execution_count": 15,
   "metadata": {},
   "outputs": [
    {
     "data": {
      "text/plain": [
       "((240000, 784), (240000,))"
      ]
     },
     "execution_count": 15,
     "metadata": {},
     "output_type": "execute_result"
    }
   ],
   "source": [
    "x_train_shifted.shape, y_train_augmented.shape"
   ]
  },
  {
   "cell_type": "code",
   "execution_count": 16,
   "metadata": {},
   "outputs": [
    {
     "data": {
      "image/png": "[encoded data removed]",
      "text/plain": [
       "<Figure size 864x720 with 4 Axes>"
      ]
     },
     "metadata": {
      "needs_background": "light"
     },
     "output_type": "display_data"
    }
   ],
   "source": [
    "# show the img shifted in 4 different directions\n",
    "f, ax = plt.subplots(2,2,figsize = (12, 10))\n",
    "ax[0,0].imshow(x_train_shifted[1].reshape(28,28), cmap = 'Greys')\n",
    "ax[1,0].imshow(x_train_shifted[60001].reshape(28,28), cmap = 'Greys')\n",
    "ax[0,1].imshow(x_train_shifted[120001].reshape(28,28), cmap = 'Greys')\n",
    "ax[1,1].imshow(x_train_shifted[180001].reshape(28,28), cmap = 'Greys')\n",
    "ax[0,0].grid()\n",
    "ax[1,0].grid()\n",
    "ax[0,1].grid()\n",
    "ax[1,1].grid()"
   ]
  },
  {
   "cell_type": "code",
   "execution_count": 17,
   "metadata": {},
   "outputs": [
    {
     "data": {
      "text/plain": [
       "('8', '8', '8', '8')"
      ]
     },
     "execution_count": 17,
     "metadata": {},
     "output_type": "execute_result"
    }
   ],
   "source": [
    "# check y_train_augmented\n",
    "y_train_augmented[1],y_train_augmented[60001],y_train_augmented[120001],y_train_augmented[180001]"
   ]
  },
  {
   "cell_type": "code",
   "execution_count": 18,
   "metadata": {},
   "outputs": [],
   "source": [
    "import cv2"
   ]
  },
  {
   "cell_type": "code",
   "execution_count": 19,
   "metadata": {},
   "outputs": [
    {
     "data": {
      "text/plain": [
       "'4.1.2'"
      ]
     },
     "execution_count": 19,
     "metadata": {},
     "output_type": "execute_result"
    }
   ],
   "source": [
    "cv2.__version__"
   ]
  },
  {
   "cell_type": "code",
   "execution_count": 20,
   "metadata": {},
   "outputs": [],
   "source": [
    "# get the flipped img to enlarge the dataset\n",
    "def horizontal_flip(images):\n",
    "    flipped_images = []\n",
    "    for img in images:\n",
    "        flipped_img = cv2.flip(img, flipCode = 1)\n",
    "        flipped_images.append(flipped_img)\n",
    "    return (flipped_images)"
   ]
  },
  {
   "cell_type": "code",
   "execution_count": 21,
   "metadata": {},
   "outputs": [],
   "source": [
    "flipped_imgs = horizontal_flip(x_train.reshape(-1, 28, 28))"
   ]
  },
  {
   "cell_type": "code",
   "execution_count": 22,
   "metadata": {},
   "outputs": [],
   "source": [
    "flipped_imgs = np.array(flipped_imgs)\n",
    "flipped_lables = np.array(y_train[:])"
   ]
  },
  {
   "cell_type": "code",
   "execution_count": 23,
   "metadata": {},
   "outputs": [
    {
     "data": {
      "text/plain": [
       "((60000, 28, 28), (60000,))"
      ]
     },
     "execution_count": 23,
     "metadata": {},
     "output_type": "execute_result"
    }
   ],
   "source": [
    "flipped_imgs = flipped_imgs.reshape(-1, 28, 28)\n",
    "flipped_imgs.shape, flipped_lables.shape"
   ]
  },
  {
   "cell_type": "code",
   "execution_count": 24,
   "metadata": {},
   "outputs": [
    {
     "data": {
      "text/plain": [
       "<matplotlib.image.AxesImage at 0x1be5bc2c470>"
      ]
     },
     "execution_count": 24,
     "metadata": {},
     "output_type": "execute_result"
    },
    {
     "data": {
      "image/png": "[encoded data removed]",
      "text/plain": [
       "<Figure size 864x720 with 4 Axes>"
      ]
     },
     "metadata": {
      "needs_background": "light"
     },
     "output_type": "display_data"
    }
   ],
   "source": [
    "# check the flipped effect\n",
    "f, ax = plt.subplots(2,2,figsize = (12, 10))\n",
    "ax[0,0].imshow(flipped_imgs[100].reshape(28,28), cmap = 'Greys')\n",
    "ax[0,1].imshow(x_train[100].reshape(28,28), cmap = 'Greys')\n",
    "ax[1,0].imshow(flipped_imgs[200].reshape(28,28), cmap = 'Greys')\n",
    "ax[1,1].imshow(x_train[200].reshape(28,28), cmap = 'Greys')"
   ]
  },
  {
   "cell_type": "code",
   "execution_count": 25,
   "metadata": {},
   "outputs": [
    {
     "data": {
      "text/plain": [
       "('2', '4')"
      ]
     },
     "execution_count": 25,
     "metadata": {},
     "output_type": "execute_result"
    }
   ],
   "source": [
    "flipped_lables[100], flipped_lables[200]"
   ]
  },
  {
   "cell_type": "code",
   "execution_count": 26,
   "metadata": {},
   "outputs": [],
   "source": [
    "# assistant function\n",
    "def shuffle_batch(x, y, batch_size):\n",
    "    rnd_idx = np.random.permutation(len(x))\n",
    "    n_batches = len(x)//batch_size\n",
    "    for batch_idx in np.array_split(rnd_idx, n_batches):\n",
    "        x_batch, y_batch = x[batch_idx], y[batch_idx]\n",
    "        yield x_batch, y_batch"
   ]
  },
  {
   "cell_type": "code",
   "execution_count": 27,
   "metadata": {},
   "outputs": [],
   "source": [
    "# begin to create network\n",
    "tf.compat.v1.disable_eager_execution()\n",
    "tf.compat.v1.reset_default_graph()"
   ]
  },
  {
   "cell_type": "code",
   "execution_count": 28,
   "metadata": {},
   "outputs": [],
   "source": [
    "with tf.name_scope('placeholders'):  \n",
    "    x = tf.compat.v1.placeholder(np.float32, shape = [None, 28, 28], name = 'x')\n",
    "    x_reshaped = tf.reshape(x, [-1, 28, 28, 1], name = 'x_reshaped')\n",
    "    y = tf.compat.v1.placeholder(np.int32, shape = None, name = 'y')"
   ]
  },
  {
   "cell_type": "code",
   "execution_count": 29,
   "metadata": {},
   "outputs": [
    {
     "name": "stdout",
     "output_type": "stream",
     "text": [
      "WARNING:tensorflow:From C:\\Users\\hc\\Anaconda2\\envs\\tensorflow\\lib\\site-packages\\tensorflow_core\\python\\ops\\resource_variable_ops.py:1630: calling BaseResourceVariable.__init__ (from tensorflow.python.ops.resource_variable_ops) with constraint is deprecated and will be removed in a future version.\n",
      "Instructions for updating:\n",
      "If using Keras pass *_constraint arguments to layers.\n"
     ]
    }
   ],
   "source": [
    "with tf.name_scope('conv'):\n",
    "    # conv layer\n",
    "    conv1 = tf.keras.layers.Conv2D(12, [3,3], strides = 1, padding = 'SAME', name = 'conv1')\n",
    "    tmpRes = conv1(x_reshaped)\n",
    "    pool1 = tf.keras.layers.MaxPool2D([3,3], strides = 2, name = 'pool1') # [3,3] \n",
    "    tmpRes = pool1(tmpRes)\n",
    "    conv2 = tf.keras.layers.Conv2D(16, [3,3], strides = 1, padding = 'SAME', name = 'conv2')\n",
    "    tmpRes = conv2(tmpRes)\n",
    "    pool2 = tf.keras.layers.MaxPool2D([3,3], strides = 2, name = 'pool2')\n",
    "    tmpRes = pool2(tmpRes)\n",
    "    pool2_flatten = tf.reshape(tmpRes, shape = (-1, 6*6*16))\n",
    "    \n",
    "    fc1 = tf.compat.v1.layers.Dense(256, activation = tf.nn.selu, name = 'fc1')\n",
    "    tmpRes = fc1(pool2_flatten)\n",
    "    res_fc1 = tmpRes\n",
    "    fc2 = tf.keras.layers.Dense(100, activation = tf.nn.selu, name = 'fc2')\n",
    "    tmpRes = fc2(tmpRes)\n",
    "    res_fc2 = tmpRes\n",
    "    logits = tf.keras.layers.Dense(10, activation = tf.nn.selu, name = 'output')\n",
    "    tmpRes = logits(res_fc2)\n",
    "    res_logits = tmpRes"
   ]
  },
  {
   "cell_type": "code",
   "execution_count": 30,
   "metadata": {},
   "outputs": [],
   "source": [
    "# create loss function\n",
    "with tf.name_scope('loss'):\n",
    "    xentropy = tf.nn.sparse_softmax_cross_entropy_with_logits(logits = res_logits, labels = y)\n",
    "    loss = tf.reduce_mean(xentropy)"
   ]
  },
  {
   "cell_type": "code",
   "execution_count": 31,
   "metadata": {},
   "outputs": [],
   "source": [
    "# train -> minimize the loss\n",
    "with tf.name_scope('train'):\n",
    "    optimizer = tf.compat.v1.train.AdamOptimizer(0.001)\n",
    "    training_op = optimizer.minimize(loss)"
   ]
  },
  {
   "cell_type": "code",
   "execution_count": 32,
   "metadata": {},
   "outputs": [],
   "source": [
    "# eval effect\n",
    "with tf.name_scope('eval'):\n",
    "    correct = tf.math.in_top_k(y, res_logits, 1, name = 'correct')\n",
    "    accuracy = tf.reduce_mean(tf.cast(correct, np.float32))"
   ]
  },
  {
   "cell_type": "code",
   "execution_count": 33,
   "metadata": {},
   "outputs": [],
   "source": [
    "batch_size = 128\n",
    "out = []"
   ]
  },
  {
   "cell_type": "code",
   "execution_count": 34,
   "metadata": {},
   "outputs": [
    {
     "name": "stdout",
     "output_type": "stream",
     "text": [
      "0 Batch Accuracy =  0.9609375   Validation Accuracy =  0.9568\n",
      "1 Batch Accuracy =  0.96875   Validation Accuracy =  0.9787\n",
      "2 Batch Accuracy =  1.0   Validation Accuracy =  0.9796\n",
      "3 Batch Accuracy =  0.9921875   Validation Accuracy =  0.9859\n",
      "4 Batch Accuracy =  1.0   Validation Accuracy =  0.9839\n",
      "5 Batch Accuracy =  1.0   Validation Accuracy =  0.9861\n",
      "6 Batch Accuracy =  1.0   Validation Accuracy =  0.9853\n",
      "7 Batch Accuracy =  1.0   Validation Accuracy =  0.9871\n",
      "8 Batch Accuracy =  0.9921875   Validation Accuracy =  0.9855\n",
      "9 Batch Accuracy =  1.0   Validation Accuracy =  0.9853\n",
      "10 Batch Accuracy =  1.0   Validation Accuracy =  0.9841\n",
      "11 Batch Accuracy =  1.0   Validation Accuracy =  0.9866\n",
      "12 Batch Accuracy =  1.0   Validation Accuracy =  0.9875\n",
      "13 Batch Accuracy =  1.0   Validation Accuracy =  0.9875\n",
      "14 Batch Accuracy =  0.9921875   Validation Accuracy =  0.9808\n",
      "15 Batch Accuracy =  0.984375   Validation Accuracy =  0.9837\n",
      "16 Batch Accuracy =  1.0   Validation Accuracy =  0.9874\n",
      "17 Batch Accuracy =  1.0   Validation Accuracy =  0.9867\n",
      "18 Batch Accuracy =  1.0   Validation Accuracy =  0.9871\n",
      "19 Batch Accuracy =  1.0   Validation Accuracy =  0.9886\n"
     ]
    }
   ],
   "source": [
    "with tf.compat.v1.Session() as sess:\n",
    "    sess.run(tf.compat.v1.global_variables_initializer())\n",
    "    out = []\n",
    "    for epoch in range(20):\n",
    "        for x_batch, y_batch in shuffle_batch(x_train, y_train, batch_size):\n",
    "            x_batch = np.reshape(x_batch, [-1, 28, 28])\n",
    "            sess.run(training_op, feed_dict = {x:x_batch, y:y_batch})\n",
    "        if epoch % 1 == 0:\n",
    "            batch_acc = accuracy.eval(feed_dict = {x:x_batch, y:y_batch})\n",
    "            x_test = np.reshape(x_test, [-1, 28, 28])\n",
    "            val_acc = accuracy.eval(feed_dict = {x:x_test, y:y_test})\n",
    "            print(epoch, \"Batch Accuracy = \",batch_acc,\"  Validation Accuracy = \",val_acc)\n",
    "            outputs = sess.run(res_logits, feed_dict = {x:x_test})\n",
    "            out.append(outputs)"
   ]
  },
  {
   "cell_type": "code",
   "execution_count": 35,
   "metadata": {},
   "outputs": [],
   "source": [
    "y_hat = np.argmax(outputs, axis = 1)"
   ]
  },
  {
   "cell_type": "code",
   "execution_count": 36,
   "metadata": {},
   "outputs": [],
   "source": [
    "y_int_test = list(map(int,y_test))"
   ]
  },
  {
   "cell_type": "code",
   "execution_count": 37,
   "metadata": {},
   "outputs": [
    {
     "data": {
      "text/plain": [
       "array([5, 0, 4, 0, 3, 7, 0, 1, 2, 4, 1, 3, 8, 2, 7, 5, 2, 0, 5, 3],\n",
       "      dtype=int64)"
      ]
     },
     "execution_count": 37,
     "metadata": {},
     "output_type": "execute_result"
    }
   ],
   "source": [
    "y_hat[:20]"
   ]
  },
  {
   "cell_type": "code",
   "execution_count": 38,
   "metadata": {},
   "outputs": [
    {
     "data": {
      "text/plain": [
       "array(['5', '0', '4', '0', '3', '7', '0', '1', '2', '4', '1', '3', '8',\n",
       "       '2', '7', '5', '2', '0', '5', '3'], dtype=object)"
      ]
     },
     "execution_count": 38,
     "metadata": {},
     "output_type": "execute_result"
    }
   ],
   "source": [
    "y_test[:20]"
   ]
  },
  {
   "cell_type": "code",
   "execution_count": 39,
   "metadata": {},
   "outputs": [],
   "source": [
    "from sklearn.metrics import accuracy_score"
   ]
  },
  {
   "cell_type": "code",
   "execution_count": 40,
   "metadata": {},
   "outputs": [
    {
     "name": "stdout",
     "output_type": "stream",
     "text": [
      "0.9886\n"
     ]
    }
   ],
   "source": [
    "acc_score = accuracy_score(y_int_test, y_hat)\n",
    "print(acc_score)"
   ]
  },
  {
   "cell_type": "code",
   "execution_count": 344,
   "metadata": {},
   "outputs": [],
   "source": [
    "# use the early shifted and flipped data !!!\n",
    "tf.compat.v1.reset_default_graph()"
   ]
  },
  {
   "cell_type": "code",
   "execution_count": 345,
   "metadata": {},
   "outputs": [],
   "source": [
    "with tf.name_scope('placeholders'):\n",
    "    \n",
    "    x = tf.compat.v1.placeholder(np.float32, shape = [None, 28, 28], name = 'x')\n",
    "    x_reshaped = tf.reshape(x, [-1, 28, 28, 1], name = 'x_reshaped')\n",
    "    y = tf.compat.v1.placeholder(np.int32, shape = None, name = 'y')\n",
    "    \n",
    "    bn1_train = tf.compat.v1.placeholder_with_default(True, shape = (None), name = 'bn1_holder')\n",
    "    bn2_train = tf.compat.v1.placeholder_with_default(True, shape = (None), name = 'bn2_holder')\n",
    "    \n",
    "    drop1 = tf.compat.v1.placeholder_with_default(True, shape = (None), name = 'Drop1')\n",
    "    drop2 = tf.compat.v1.placeholder_with_default(True, shape = (None), name = 'Drop2')"
   ]
  },
  {
   "cell_type": "code",
   "execution_count": 346,
   "metadata": {},
   "outputs": [],
   "source": [
    "# new with shifted & flipped\n",
    "with tf.name_scope('conv'):\n",
    "    # conv layer\n",
    "    conv1 = tf.keras.layers.Conv2D(12, [3,3], strides = 1, padding = 'SAME', name = 'conv1')\n",
    "    tmpRes = conv1(x_reshaped)\n",
    "    pool1 = tf.keras.layers.MaxPool2D([3,3], strides = 2, name = 'pool1') # [3,3] is ?\n",
    "    tmpRes = pool1(tmpRes)\n",
    "    res_pool1 = tmpRes\n",
    "    # momentum & renorm_momentum\n",
    "    bn1 = tf.compat.v1.layers.batch_normalization(res_pool1, momentum = 0.9, training = bn1_train)\n",
    "    # tmpRes = bn1(res_pool1, training = bn1_train)\n",
    "    dropout1 = tf.compat.v1.keras.layers.Dropout(0.5)\n",
    "    tmpRes = dropout1(bn1, training = drop1)\n",
    "    \n",
    "    conv2 = tf.keras.layers.Conv2D(16, [3,3], strides = 1, padding = 'SAME', name = 'conv2')\n",
    "    tmpRes = conv2(res_pool1) #Attention! use pool1\n",
    "    pool2 = tf.keras.layers.MaxPool2D([3,3], strides = 2, name = 'pool2')\n",
    "    tmpRes = pool2(tmpRes)\n",
    "    res_pool2 = tmpRes\n",
    "    #bn2 = tf.keras.layers.BatchNormalization(momentum = 0.9)\n",
    "    bn2 = tf.compat.v1.layers.batch_normalization(res_pool2, momentum = 0.9, training = bn2_train)\n",
    "    # tmpRes = bn2(tmpRes, training = bn2_train)\n",
    "    # res_bn2 = tmpRes\n",
    "    dropout2 = tf.compat.v1.keras.layers.Dropout(0.5)\n",
    "    tmpRes = dropout2(bn2, training = drop2)\n",
    "    res_dropout2 = tmpRes\n",
    "    \n",
    "    bn2_flatten = tf.reshape(tmpRes, shape = (-1, 6*6*16)) #res_pool2\n",
    "    \n",
    "    fc1 = tf.compat.v1.layers.Dense(256, activation = tf.nn.selu, name = 'fc1')\n",
    "    tmpRes = fc1(bn2_flatten)\n",
    "    res_fc1 = tmpRes\n",
    "    fc2 = tf.keras.layers.Dense(100, activation = tf.nn.selu, name = 'fc2')\n",
    "    tmpRes = fc2(res_fc1)\n",
    "    res_fc2 = tmpRes\n",
    "    logits = tf.keras.layers.Dense(10, activation = tf.nn.selu, name = 'output')\n",
    "    tmpRes = logits(res_fc2)\n",
    "    res_logits = tmpRes"
   ]
  },
  {
   "cell_type": "code",
   "execution_count": 347,
   "metadata": {},
   "outputs": [],
   "source": [
    "# create loss function\n",
    "with tf.name_scope('loss'):\n",
    "    xentropy = tf.nn.sparse_softmax_cross_entropy_with_logits(logits = res_logits, labels = y)\n",
    "    loss = tf.reduce_mean(xentropy)"
   ]
  },
  {
   "cell_type": "code",
   "execution_count": 348,
   "metadata": {},
   "outputs": [],
   "source": [
    "# train -> minimize the loss\n",
    "with tf.name_scope('train'):\n",
    "    optimizer = tf.compat.v1.train.AdamOptimizer(0.001)\n",
    "    training_op = optimizer.minimize(loss)"
   ]
  },
  {
   "cell_type": "code",
   "execution_count": 349,
   "metadata": {},
   "outputs": [],
   "source": [
    "# eval effect\n",
    "with tf.name_scope('eval'):\n",
    "    correct = tf.math.in_top_k(y, res_logits, 1, name = 'correct')\n",
    "    accuracy = tf.reduce_mean(tf.cast(correct, np.float32))"
   ]
  },
  {
   "cell_type": "code",
   "execution_count": 350,
   "metadata": {},
   "outputs": [],
   "source": [
    "flipped_imgs_784 = flipped_imgs.reshape((-1,784))"
   ]
  },
  {
   "cell_type": "code",
   "execution_count": 351,
   "metadata": {},
   "outputs": [],
   "source": [
    "final_x = np.concatenate((x_train,flipped_imgs_784,x_train_shifted),axis=0)"
   ]
  },
  {
   "cell_type": "code",
   "execution_count": 352,
   "metadata": {},
   "outputs": [
    {
     "data": {
      "text/plain": [
       "(360000, 784)"
      ]
     },
     "execution_count": 352,
     "metadata": {},
     "output_type": "execute_result"
    }
   ],
   "source": [
    "final_x.shape"
   ]
  },
  {
   "cell_type": "code",
   "execution_count": 353,
   "metadata": {},
   "outputs": [],
   "source": [
    "final_y = np.concatenate((y_train,flipped_lables,y_train_augmented),axis=0)"
   ]
  },
  {
   "cell_type": "code",
   "execution_count": 354,
   "metadata": {},
   "outputs": [
    {
     "data": {
      "text/plain": [
       "(360000,)"
      ]
     },
     "execution_count": 354,
     "metadata": {},
     "output_type": "execute_result"
    }
   ],
   "source": [
    "final_y.shape"
   ]
  },
  {
   "cell_type": "code",
   "execution_count": 355,
   "metadata": {},
   "outputs": [],
   "source": [
    "batch_size = 128\n",
    "out = []\n",
    "extra_update_ops = tf.compat.v1.get_collection(tf.compat.v1.GraphKeys.UPDATE_OPS)"
   ]
  },
  {
   "cell_type": "code",
   "execution_count": 356,
   "metadata": {},
   "outputs": [
    {
     "name": "stdout",
     "output_type": "stream",
     "text": [
      "0 Batch Accuracy =  1.0   Validation Accuracy =  0.9854\n",
      "1 Batch Accuracy =  0.984375   Validation Accuracy =  0.9905\n",
      "2 Batch Accuracy =  0.9921875   Validation Accuracy =  0.9907\n",
      "3 Batch Accuracy =  0.9921875   Validation Accuracy =  0.9915\n",
      "4 Batch Accuracy =  0.984375   Validation Accuracy =  0.992\n",
      "5 Batch Accuracy =  0.9609375   Validation Accuracy =  0.9923\n",
      "6 Batch Accuracy =  0.9921875   Validation Accuracy =  0.9936\n",
      "7 Batch Accuracy =  0.9921875   Validation Accuracy =  0.992\n",
      "8 Batch Accuracy =  0.9921875   Validation Accuracy =  0.9941\n",
      "9 Batch Accuracy =  1.0   Validation Accuracy =  0.9938\n",
      "10 Batch Accuracy =  0.9921875   Validation Accuracy =  0.9932\n",
      "11 Batch Accuracy =  0.9921875   Validation Accuracy =  0.9941\n",
      "12 Batch Accuracy =  0.9921875   Validation Accuracy =  0.9939\n",
      "13 Batch Accuracy =  0.9921875   Validation Accuracy =  0.9943\n",
      "14 Batch Accuracy =  1.0   Validation Accuracy =  0.9935\n",
      "15 Batch Accuracy =  0.9765625   Validation Accuracy =  0.9931\n",
      "16 Batch Accuracy =  0.9921875   Validation Accuracy =  0.9932\n",
      "17 Batch Accuracy =  0.9921875   Validation Accuracy =  0.9939\n",
      "18 Batch Accuracy =  0.9921875   Validation Accuracy =  0.9942\n",
      "19 Batch Accuracy =  0.9921875   Validation Accuracy =  0.9928\n"
     ]
    }
   ],
   "source": [
    "with tf.compat.v1.Session() as sess:\n",
    "    sess.run(tf.compat.v1.global_variables_initializer())\n",
    "    out = []\n",
    "    for epoch in range(20):\n",
    "        for x_batch, y_batch in shuffle_batch(final_x, final_y, batch_size):\n",
    "            x_batch = np.reshape(x_batch, [-1, 28, 28])\n",
    "            sess.run([training_op,extra_update_ops], feed_dict = {x:x_batch, y:y_batch})\n",
    "        if epoch % 1 == 0:\n",
    "            batch_acc = accuracy.eval(feed_dict = {x:x_batch, y:y_batch})\n",
    "            x_test = np.reshape(x_test, [-1, 28, 28])\n",
    "            val_acc = accuracy.eval(feed_dict = {bn1_train: False, bn2_train: False,\n",
    "                                                 drop1: False, drop2: False, \n",
    "                                                 x:x_test, y:y_test})\n",
    "            print(epoch, \"Batch Accuracy = \",batch_acc,\"  Validation Accuracy = \",val_acc)\n",
    "            outputs = sess.run(res_logits, feed_dict = {bn1_train: False, bn2_train: False,\n",
    "                                                        drop1: False, drop2: False, \n",
    "                                                        x:x_test})\n",
    "            out.append(outputs)"
   ]
  },
  {
   "cell_type": "code",
   "execution_count": 365,
   "metadata": {},
   "outputs": [],
   "source": [
    "y_hat = np.argmax(outputs, axis = 1)"
   ]
  },
  {
   "cell_type": "code",
   "execution_count": 371,
   "metadata": {},
   "outputs": [],
   "source": [
    "y_int_test = list(map(int,y_test))"
   ]
  },
  {
   "cell_type": "code",
   "execution_count": 366,
   "metadata": {},
   "outputs": [
    {
     "data": {
      "text/plain": [
       "array([9, 1, 0, 8, 7, 8, 6, 2, 8, 3, 4, 7, 6, 8, 4, 4, 8, 3, 8, 9],\n",
       "      dtype=int64)"
      ]
     },
     "execution_count": 366,
     "metadata": {},
     "output_type": "execute_result"
    }
   ],
   "source": [
    "y_hat[:20]"
   ]
  },
  {
   "cell_type": "code",
   "execution_count": 367,
   "metadata": {},
   "outputs": [
    {
     "data": {
      "text/plain": [
       "array(['9', '1', '0', '8', '7', '8', '6', '6', '8', '3', '4', '7', '6',\n",
       "       '8', '4', '4', '8', '3', '8', '9'], dtype=object)"
      ]
     },
     "execution_count": 367,
     "metadata": {},
     "output_type": "execute_result"
    }
   ],
   "source": [
    "y_test[:20]"
   ]
  },
  {
   "cell_type": "code",
   "execution_count": 372,
   "metadata": {},
   "outputs": [
    {
     "data": {
      "text/plain": [
       "[9, 1, 0, 8, 7, 8, 6, 6, 8, 3, 4, 7, 6, 8, 4, 4, 8, 3, 8, 9]"
      ]
     },
     "execution_count": 372,
     "metadata": {},
     "output_type": "execute_result"
    }
   ],
   "source": [
    "y_int_test[:20]"
   ]
  },
  {
   "cell_type": "code",
   "execution_count": 373,
   "metadata": {},
   "outputs": [],
   "source": [
    "from sklearn.metrics import accuracy_score"
   ]
  },
  {
   "cell_type": "code",
   "execution_count": 374,
   "metadata": {},
   "outputs": [
    {
     "name": "stdout",
     "output_type": "stream",
     "text": [
      "0.9928\n"
     ]
    }
   ],
   "source": [
    "acc_score = accuracy_score(y_int_test, y_hat)\n",
    "print(acc_score)"
   ]
  },
  {
   "cell_type": "code",
   "execution_count": null,
   "metadata": {},
   "outputs": [],
   "source": []
  }
 ],
 "metadata": {
  "kernelspec": {
   "display_name": "Python 3",
   "language": "python",
   "name": "python3"
  },
  "language_info": {
   "codemirror_mode": {
    "name": "ipython",
    "version": 3
   },
   "file_extension": ".py",
   "mimetype": "text/x-python",
   "name": "python",
   "nbconvert_exporter": "python",
   "pygments_lexer": "ipython3",
   "version": "3.6.9"
  }
 },
 "nbformat": 4,
 "nbformat_minor": 2
}
